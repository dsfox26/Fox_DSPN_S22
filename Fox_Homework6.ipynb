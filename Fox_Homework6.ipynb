{
 "cells": [
  {
   "cell_type": "markdown",
   "metadata": {
    "id": "-2W919d2ZXp7"
   },
   "source": [
    "# Homework 6: Mixed effects"
   ]
  },
  {
   "cell_type": "markdown",
   "metadata": {
    "id": "L4nOzVhyZXqK"
   },
   "source": [
    "This homework assignment is designed to give you practice fitting and interpreting mixed effects models. \n",
    "\n",
    "We will be using the **LexicalData.csv** and **Items.csv** files from the *Homework/lexDat* folder in the class GitHub repository again. \n",
    "\n",
    "This data is a subset of the [English Lexicon Project database](https://elexicon.wustl.edu/). It provides the reaction times (in milliseconds) of many subjects as they are presented with letter strings and asked to decide, as quickly and as accurately as possible, whether the letter string is a word or not. The **Items.csv** provides characteristics of the words used, namely frequency (how common is this word?) and length (how many letters?). Unlike in the previous homework, there isn't any missing data in the **LexicalData.csv** file. \n",
    "\n",
    "*Data courtesy of Balota, D.A., Yap, M.J., Cortese, M.J., Hutchison, K.A., Kessler, B., Loftis, B., Neely, J.H., Nelson, D.L., Simpson, G.B., & Treiman, R. (2007). The English Lexicon Project. Behavior Research Methods, 39, 445-459.*"
   ]
  },
  {
   "cell_type": "markdown",
   "metadata": {
    "id": "9DsyBTB6ZXqN"
   },
   "source": [
    "---\n",
    "## 1. Loading and formatting the data (1 point)\n",
    "\n",
    "Load in data from the **LexicalData.csv** and **Items.csv** files. As in the previous homeworks, remove the commas from the reaction times and convert them from strings to numbers. Use `left_join` to add word characteristics `Length` and `Log_Freq_Hal` from **Items** to **LexicalData**. \n",
    "\n",
    "*Note: the `Freq_HAL` variable in **Items.csv** has a similar formatting issue, using string values with commas. We're not going to worry about fixing this since we're only using `Log_Freq_HAL`, which is the natural log transformation of `Freq_HAL`, in this homework.*"
   ]
  },
  {
   "cell_type": "code",
   "execution_count": 9,
   "metadata": {
    "colab": {
     "base_uri": "https://localhost:8080/",
     "height": 283
    },
    "executionInfo": {
     "elapsed": 3646,
     "status": "ok",
     "timestamp": 1615941478718,
     "user": {
      "displayName": "Patience Stevens",
      "photoUrl": "https://lh3.googleusercontent.com/a-/AOh14Gi-_9ZqhIFhAv1oMehJNvNuIKSTyrFQHzjxQKhx=s64",
      "userId": "01994571539255174942"
     },
     "user_tz": 240
    },
    "id": "UnBVazYfZXqP",
    "outputId": "ac15e53d-db29-431a-cefe-c4a81bee3024"
   },
   "outputs": [
    {
     "data": {
      "text/html": [
       "TRUE"
      ],
      "text/latex": [
       "TRUE"
      ],
      "text/markdown": [
       "TRUE"
      ],
      "text/plain": [
       "[1] TRUE"
      ]
     },
     "metadata": {},
     "output_type": "display_data"
    },
    {
     "data": {
      "text/html": [
       "<table class=\"dataframe\">\n",
       "<caption>A data.frame: 6 × 11</caption>\n",
       "<thead>\n",
       "\t<tr><th></th><th scope=col>X</th><th scope=col>Sub_ID</th><th scope=col>Trial</th><th scope=col>Type</th><th scope=col>D_RT</th><th scope=col>D_Word</th><th scope=col>Outlier</th><th scope=col>D_Zscore</th><th scope=col>Correct</th><th scope=col>Length</th><th scope=col>Log_Freq_HAL</th></tr>\n",
       "\t<tr><th></th><th scope=col>&lt;int&gt;</th><th scope=col>&lt;int&gt;</th><th scope=col>&lt;int&gt;</th><th scope=col>&lt;int&gt;</th><th scope=col>&lt;dbl&gt;</th><th scope=col>&lt;chr&gt;</th><th scope=col>&lt;chr&gt;</th><th scope=col>&lt;dbl&gt;</th><th scope=col>&lt;int&gt;</th><th scope=col>&lt;int&gt;</th><th scope=col>&lt;dbl&gt;</th></tr>\n",
       "</thead>\n",
       "<tbody>\n",
       "\t<tr><th scope=row>1</th><td>1</td><td>157</td><td>1</td><td>1</td><td> 710</td><td>browse     </td><td>false</td><td>-0.437</td><td>1</td><td> 6</td><td>8.856</td></tr>\n",
       "\t<tr><th scope=row>2</th><td>2</td><td> 67</td><td>1</td><td>1</td><td>1094</td><td>refrigerant</td><td>false</td><td> 0.825</td><td>1</td><td>11</td><td>4.644</td></tr>\n",
       "\t<tr><th scope=row>3</th><td>3</td><td>120</td><td>1</td><td>1</td><td> 587</td><td>gaining    </td><td>false</td><td>-0.645</td><td>1</td><td> 7</td><td>8.304</td></tr>\n",
       "\t<tr><th scope=row>4</th><td>4</td><td> 21</td><td>1</td><td>1</td><td> 984</td><td>cheerless  </td><td>false</td><td> 0.025</td><td>1</td><td> 9</td><td>2.639</td></tr>\n",
       "\t<tr><th scope=row>5</th><td>5</td><td>236</td><td>1</td><td>1</td><td> 577</td><td>pattered   </td><td>false</td><td>-0.763</td><td>1</td><td> 8</td><td>1.386</td></tr>\n",
       "\t<tr><th scope=row>6</th><td>6</td><td>236</td><td>2</td><td>1</td><td> 715</td><td>conjures   </td><td>false</td><td>-0.364</td><td>1</td><td> 8</td><td>5.268</td></tr>\n",
       "</tbody>\n",
       "</table>\n"
      ],
      "text/latex": [
       "A data.frame: 6 × 11\n",
       "\\begin{tabular}{r|lllllllllll}\n",
       "  & X & Sub\\_ID & Trial & Type & D\\_RT & D\\_Word & Outlier & D\\_Zscore & Correct & Length & Log\\_Freq\\_HAL\\\\\n",
       "  & <int> & <int> & <int> & <int> & <dbl> & <chr> & <chr> & <dbl> & <int> & <int> & <dbl>\\\\\n",
       "\\hline\n",
       "\t1 & 1 & 157 & 1 & 1 &  710 & browse      & false & -0.437 & 1 &  6 & 8.856\\\\\n",
       "\t2 & 2 &  67 & 1 & 1 & 1094 & refrigerant & false &  0.825 & 1 & 11 & 4.644\\\\\n",
       "\t3 & 3 & 120 & 1 & 1 &  587 & gaining     & false & -0.645 & 1 &  7 & 8.304\\\\\n",
       "\t4 & 4 &  21 & 1 & 1 &  984 & cheerless   & false &  0.025 & 1 &  9 & 2.639\\\\\n",
       "\t5 & 5 & 236 & 1 & 1 &  577 & pattered    & false & -0.763 & 1 &  8 & 1.386\\\\\n",
       "\t6 & 6 & 236 & 2 & 1 &  715 & conjures    & false & -0.364 & 1 &  8 & 5.268\\\\\n",
       "\\end{tabular}\n"
      ],
      "text/markdown": [
       "\n",
       "A data.frame: 6 × 11\n",
       "\n",
       "| <!--/--> | X &lt;int&gt; | Sub_ID &lt;int&gt; | Trial &lt;int&gt; | Type &lt;int&gt; | D_RT &lt;dbl&gt; | D_Word &lt;chr&gt; | Outlier &lt;chr&gt; | D_Zscore &lt;dbl&gt; | Correct &lt;int&gt; | Length &lt;int&gt; | Log_Freq_HAL &lt;dbl&gt; |\n",
       "|---|---|---|---|---|---|---|---|---|---|---|---|\n",
       "| 1 | 1 | 157 | 1 | 1 |  710 | browse      | false | -0.437 | 1 |  6 | 8.856 |\n",
       "| 2 | 2 |  67 | 1 | 1 | 1094 | refrigerant | false |  0.825 | 1 | 11 | 4.644 |\n",
       "| 3 | 3 | 120 | 1 | 1 |  587 | gaining     | false | -0.645 | 1 |  7 | 8.304 |\n",
       "| 4 | 4 |  21 | 1 | 1 |  984 | cheerless   | false |  0.025 | 1 |  9 | 2.639 |\n",
       "| 5 | 5 | 236 | 1 | 1 |  577 | pattered    | false | -0.763 | 1 |  8 | 1.386 |\n",
       "| 6 | 6 | 236 | 2 | 1 |  715 | conjures    | false | -0.364 | 1 |  8 | 5.268 |\n",
       "\n"
      ],
      "text/plain": [
       "  X Sub_ID Trial Type D_RT D_Word      Outlier D_Zscore Correct Length\n",
       "1 1 157    1     1     710 browse      false   -0.437   1        6    \n",
       "2 2  67    1     1    1094 refrigerant false    0.825   1       11    \n",
       "3 3 120    1     1     587 gaining     false   -0.645   1        7    \n",
       "4 4  21    1     1     984 cheerless   false    0.025   1        9    \n",
       "5 5 236    1     1     577 pattered    false   -0.763   1        8    \n",
       "6 6 236    2     1     715 conjures    false   -0.364   1        8    \n",
       "  Log_Freq_HAL\n",
       "1 8.856       \n",
       "2 4.644       \n",
       "3 8.304       \n",
       "4 2.639       \n",
       "5 1.386       \n",
       "6 5.268       "
      ]
     },
     "metadata": {},
     "output_type": "display_data"
    }
   ],
   "source": [
    "#install.packages(\"lme4\") # Uncomment if not installed.\n",
    "library(lme4)\n",
    "library(ggplot2)\n",
    "library(tidyverse)\n",
    "\n",
    "LD <- read.csv(\"~/Desktop/DataSciencePsychNeuro/Homeworks/lexDat/LexicalData_withIncorrect.csv\")\n",
    "Items <- read.csv(\"~/Desktop/DataSciencePsychNeuro/Homeworks/lexDat/Items.csv\")\n",
    "\n",
    "\n",
    "LD[,'D_RT'] <- gsub(\",\",\"\",LD[,'D_RT'])\n",
    "\n",
    "\n",
    "LD$D_RT<-as.numeric(LD$D_RT)\n",
    "is.numeric(LD$D_RT)\n",
    "\n",
    "LD<- left_join(LD, Items %>% select (Word, Length, Log_Freq_HAL), by=c(\"D_Word\"=\"Word\"))\n",
    "\n",
    "head(LD)"
   ]
  },
  {
   "cell_type": "markdown",
   "metadata": {
    "id": "bXy81Viishk1"
   },
   "source": [
    "---\n",
    "## 2. Model fitting (4 points)"
   ]
  },
  {
   "cell_type": "markdown",
   "metadata": {
    "id": "H7_gEgkbzFtU"
   },
   "source": [
    "First, fit a linear model with `Log_Freq_HAL` and `Length` as predictors, and `D_RT` as the output. Include an interaction term. Use `summary()` to look at the model output. "
   ]
  },
  {
   "cell_type": "code",
   "execution_count": 10,
   "metadata": {
    "colab": {
     "base_uri": "https://localhost:8080/",
     "height": 357
    },
    "executionInfo": {
     "elapsed": 218,
     "status": "ok",
     "timestamp": 1615950762843,
     "user": {
      "displayName": "Patience Stevens",
      "photoUrl": "https://lh3.googleusercontent.com/a-/AOh14Gi-_9ZqhIFhAv1oMehJNvNuIKSTyrFQHzjxQKhx=s64",
      "userId": "01994571539255174942"
     },
     "user_tz": 240
    },
    "id": "OIOIg-GRz4rN",
    "outputId": "34ebc9d5-f7dc-4bc0-bc4a-9ed6b8a38630"
   },
   "outputs": [
    {
     "data": {
      "text/plain": [
       "\n",
       "Call:\n",
       "lm(formula = D_RT ~ Log_Freq_HAL + Length + Log_Freq_HAL * Length, \n",
       "    data = LD)\n",
       "\n",
       "Residuals:\n",
       "    Min      1Q  Median      3Q     Max \n",
       "-1128.3  -217.6   -94.0    94.2  3317.2 \n",
       "\n",
       "Coefficients:\n",
       "                    Estimate Std. Error t value Pr(>|t|)    \n",
       "(Intercept)         650.3764    14.3247  45.403  < 2e-16 ***\n",
       "Log_Freq_HAL        -10.0802     1.9643  -5.132 2.88e-07 ***\n",
       "Length               45.5806     1.5992  28.503  < 2e-16 ***\n",
       "Log_Freq_HAL:Length  -2.6346     0.2345 -11.236  < 2e-16 ***\n",
       "---\n",
       "Signif. codes:  0 ‘***’ 0.001 ‘**’ 0.01 ‘*’ 0.05 ‘.’ 0.1 ‘ ’ 1\n",
       "\n",
       "Residual standard error: 384.2 on 70585 degrees of freedom\n",
       "  (4280 observations deleted due to missingness)\n",
       "Multiple R-squared:  0.08867,\tAdjusted R-squared:  0.08863 \n",
       "F-statistic:  2289 on 3 and 70585 DF,  p-value: < 2.2e-16\n"
      ]
     },
     "metadata": {},
     "output_type": "display_data"
    }
   ],
   "source": [
    "mod1 <-lm(D_RT~Log_Freq_HAL + Length + Log_Freq_HAL * Length, data = LD)\n",
    "summary(mod1)\n",
    "\n"
   ]
  },
  {
   "cell_type": "markdown",
   "metadata": {
    "id": "Pbeg_JrS3mwU"
   },
   "source": [
    "Now, install `lme4` using `install.packages()` and then load the library. "
   ]
  },
  {
   "cell_type": "code",
   "execution_count": 11,
   "metadata": {
    "colab": {
     "base_uri": "https://localhost:8080/"
    },
    "executionInfo": {
     "elapsed": 194755,
     "status": "ok",
     "timestamp": 1615942729586,
     "user": {
      "displayName": "Patience Stevens",
      "photoUrl": "https://lh3.googleusercontent.com/a-/AOh14Gi-_9ZqhIFhAv1oMehJNvNuIKSTyrFQHzjxQKhx=s64",
      "userId": "01994571539255174942"
     },
     "user_tz": 240
    },
    "id": "hFSnvvb_re2O",
    "outputId": "c834867c-929f-4792-ed8f-753f0b17d91a"
   },
   "outputs": [],
   "source": [
    "#install.packages(\"lme4\")\n",
    "library(lme4)\n"
   ]
  },
  {
   "cell_type": "markdown",
   "metadata": {
    "id": "xZJns7xr41nW"
   },
   "source": [
    "Now fit a mixed effects model that includes the same predictors as the linear model above, as well as random intercepts for `Sub_ID` (i.e., cases where subject ID shifts the RT mean). Use `summary()` to look at the model output. "
   ]
  },
  {
   "cell_type": "code",
   "execution_count": 12,
   "metadata": {
    "colab": {
     "base_uri": "https://localhost:8080/",
     "height": 493
    },
    "executionInfo": {
     "elapsed": 899,
     "status": "ok",
     "timestamp": 1615950778119,
     "user": {
      "displayName": "Patience Stevens",
      "photoUrl": "https://lh3.googleusercontent.com/a-/AOh14Gi-_9ZqhIFhAv1oMehJNvNuIKSTyrFQHzjxQKhx=s64",
      "userId": "01994571539255174942"
     },
     "user_tz": 240
    },
    "id": "8kjwT0je57N7",
    "outputId": "6f4974ab-621d-4608-f3bf-113735ede739"
   },
   "outputs": [
    {
     "data": {
      "text/plain": [
       "Linear mixed model fit by REML ['lmerMod']\n",
       "Formula: D_RT ~ Log_Freq_HAL + Log_Freq_HAL + Log_Freq_HAL * Length +  \n",
       "    (1 | Sub_ID)\n",
       "   Data: LD\n",
       "\n",
       "REML criterion at convergence: 1012299\n",
       "\n",
       "Scaled residuals: \n",
       "    Min      1Q  Median      3Q     Max \n",
       "-4.2579 -0.5401 -0.1555  0.2986 11.0922 \n",
       "\n",
       "Random effects:\n",
       " Groups   Name        Variance Std.Dev.\n",
       " Sub_ID   (Intercept) 51061    226.0   \n",
       " Residual             97009    311.5   \n",
       "Number of obs: 70589, groups:  Sub_ID, 299\n",
       "\n",
       "Fixed effects:\n",
       "                    Estimate Std. Error t value\n",
       "(Intercept)         652.6262    17.4987  37.296\n",
       "Log_Freq_HAL        -11.0297     1.5960  -6.911\n",
       "Length               45.7392     1.2990  35.211\n",
       "Log_Freq_HAL:Length  -2.5742     0.1905 -13.514\n",
       "\n",
       "Correlation of Fixed Effects:\n",
       "            (Intr) Lg_F_HAL Length\n",
       "Log_Frq_HAL -0.621                \n",
       "Length      -0.635  0.913         \n",
       "Lg_Fr_HAL:L  0.561 -0.943   -0.919"
      ]
     },
     "metadata": {},
     "output_type": "display_data"
    }
   ],
   "source": [
    "mem<-lmer(D_RT ~ Log_Freq_HAL + Log_Freq_HAL + Log_Freq_HAL * Length + (1| Sub_ID), data = LD)\n",
    "summary(mem)\n"
   ]
  },
  {
   "cell_type": "markdown",
   "metadata": {
    "id": "Vfb_ovk7JFGt"
   },
   "source": [
    "---\n",
    "## 3. Model assessment (4 points)"
   ]
  },
  {
   "cell_type": "markdown",
   "metadata": {
    "id": "r7B1Ux6RHGjy"
   },
   "source": [
    "Compare the three t-values for the fixed effects and the mixed effects models. How do they differ, and why? "
   ]
  },
  {
   "cell_type": "markdown",
   "metadata": {
    "id": "kCi5gYOeHo6m"
   },
   "source": [
    "Overall, when looking at the absolute value of the t-values, with the mixed effects models the t values increased. For frequency, the t-value moved from 5.13 in the linear model to 6.91. Length increased from 28.5 to 35.2, and the interaction term which was 11.24 in the linear model is 13.5 in the mixed effects model. The mixed effects model includes random effects that the linear model does not account for, thus the linear model is a more conservative model fit than the mixed effects."
   ]
  },
  {
   "cell_type": "markdown",
   "metadata": {
    "id": "hukKG1AbGqXM"
   },
   "source": [
    "Use the Aikeke Information Criterion (AIC) to compare these two models. Which one is better? "
   ]
  },
  {
   "cell_type": "code",
   "execution_count": 14,
   "metadata": {
    "colab": {
     "base_uri": "https://localhost:8080/",
     "height": 159
    },
    "executionInfo": {
     "elapsed": 267,
     "status": "ok",
     "timestamp": 1615949607837,
     "user": {
      "displayName": "Patience Stevens",
      "photoUrl": "https://lh3.googleusercontent.com/a-/AOh14Gi-_9ZqhIFhAv1oMehJNvNuIKSTyrFQHzjxQKhx=s64",
      "userId": "01994571539255174942"
     },
     "user_tz": 240
    },
    "id": "KMDg8qb5FhJz",
    "outputId": "a148b06b-ec96-41e3-d13d-a439acbdf6d7"
   },
   "outputs": [
    {
     "data": {
      "text/html": [
       "<table class=\"dataframe\">\n",
       "<caption>A data.frame: 2 × 2</caption>\n",
       "<thead>\n",
       "\t<tr><th></th><th scope=col>df</th><th scope=col>AIC</th></tr>\n",
       "\t<tr><th></th><th scope=col>&lt;dbl&gt;</th><th scope=col>&lt;dbl&gt;</th></tr>\n",
       "</thead>\n",
       "<tbody>\n",
       "\t<tr><th scope=row>mod1</th><td>5</td><td>1040519</td></tr>\n",
       "\t<tr><th scope=row>mem</th><td>6</td><td>1012311</td></tr>\n",
       "</tbody>\n",
       "</table>\n"
      ],
      "text/latex": [
       "A data.frame: 2 × 2\n",
       "\\begin{tabular}{r|ll}\n",
       "  & df & AIC\\\\\n",
       "  & <dbl> & <dbl>\\\\\n",
       "\\hline\n",
       "\tmod1 & 5 & 1040519\\\\\n",
       "\tmem & 6 & 1012311\\\\\n",
       "\\end{tabular}\n"
      ],
      "text/markdown": [
       "\n",
       "A data.frame: 2 × 2\n",
       "\n",
       "| <!--/--> | df &lt;dbl&gt; | AIC &lt;dbl&gt; |\n",
       "|---|---|---|\n",
       "| mod1 | 5 | 1040519 |\n",
       "| mem | 6 | 1012311 |\n",
       "\n"
      ],
      "text/plain": [
       "     df AIC    \n",
       "mod1 5  1040519\n",
       "mem  6  1012311"
      ]
     },
     "metadata": {},
     "output_type": "display_data"
    }
   ],
   "source": [
    "\n",
    " AIC(mod1, mem)\n",
    "\n"
   ]
  },
  {
   "cell_type": "markdown",
   "metadata": {
    "id": "T4oTfsYmIvYt"
   },
   "source": [
    "The mixed effect model is a better model given that it has a lower AIC value. The mixed effect model accounts for more variance in reaction times than the linear model.  "
   ]
  },
  {
   "cell_type": "markdown",
   "metadata": {
    "id": "ARF2PF2yLXkZ"
   },
   "source": [
    "---\n",
    "##  4. Reflection (1 point)\n",
    "\n",
    "What other random effects could be controlled for in this data set? \n",
    "\n",
    "Trial number"
   ]
  },
  {
   "cell_type": "markdown",
   "metadata": {
    "id": "C4MPECMmZXqe"
   },
   "source": [
    "**DUE:** 5pm EST, March 25, 2022"
   ]
  },
  {
   "cell_type": "markdown",
   "metadata": {
    "id": "r9GUofXN4BVy"
   },
   "source": [
    "**IMPORTANT** Did you collaborate with anyone on this assignment? If so, list their names here. \n",
    "Ketura "
   ]
  }
 ],
 "metadata": {
  "colab": {
   "collapsed_sections": [],
   "name": "Homework6_solutions.ipynb",
   "provenance": []
  },
  "kernelspec": {
   "display_name": "R",
   "language": "R",
   "name": "ir"
  },
  "language_info": {
   "codemirror_mode": "r",
   "file_extension": ".r",
   "mimetype": "text/x-r-source",
   "name": "R",
   "pygments_lexer": "r",
   "version": "4.0.2"
  }
 },
 "nbformat": 4,
 "nbformat_minor": 1
}
